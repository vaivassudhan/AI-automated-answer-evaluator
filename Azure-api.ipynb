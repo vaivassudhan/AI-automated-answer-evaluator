{
 "cells": [
  {
   "cell_type": "code",
   "execution_count": 1,
   "id": "0e415620",
   "metadata": {},
   "outputs": [],
   "source": [
    "# Draws a bounding box around an object found in image\n",
    "def drawRectangle(read_image, coordinates):\n",
    "    # Represent all sides of a box\n",
    "    image = Image.open(read_image)\n",
    "    draw = ImageDraw.Draw(image)\n",
    "    draw.rectangle(coordinates, outline='red')\n",
    "    image.show()"
   ]
  },
  {
   "cell_type": "code",
   "execution_count": 5,
   "id": "e0cf0dbf",
   "metadata": {},
   "outputs": [],
   "source": [
    "from azure.cognitiveservices.vision.computervision import ComputerVisionClient\n",
    "from azure.cognitiveservices.vision.computervision.models import OperationStatusCodes\n",
    "from azure.cognitiveservices.vision.computervision.models import VisualFeatureTypes\n",
    "from msrest.authentication import CognitiveServicesCredentials\n",
    "\n",
    "from array import array\n",
    "import os\n",
    "from PIL import Image\n",
    "import sys\n",
    "import time\n",
    "# </snippet_imports>\n",
    "\n",
    "'''\n",
    "Authenticate\n",
    "Authenticates your credentials and creates a client.\n",
    "'''\n",
    "# <snippet_vars>\n",
    "subscription_key = \"d5d0e372874a4c11ba463a30abe853f1\"\n",
    "endpoint = \"https://answer-sheet.cognitiveservices.azure.com/\"\n",
    "# </snippet_vars>\n",
    "# </snippet_imports_and_vars>\n",
    "\n",
    "# <snippet_client>\n",
    "computervision_client = ComputerVisionClient(endpoint, CognitiveServicesCredentials(subscription_key))"
   ]
  },
  {
   "cell_type": "code",
   "execution_count": 6,
   "id": "1e03e6da",
   "metadata": {
    "scrolled": true
   },
   "outputs": [
    {
     "ename": "ComputerVisionOcrErrorException",
     "evalue": "Operation returned an invalid status code 'PermissionDenied'",
     "output_type": "error",
     "traceback": [
      "\u001b[0;31m---------------------------------------------------------------------------\u001b[0m",
      "\u001b[0;31mComputerVisionOcrErrorException\u001b[0m           Traceback (most recent call last)",
      "Input \u001b[0;32mIn [6]\u001b[0m, in \u001b[0;36m<cell line: 7>\u001b[0;34m()\u001b[0m\n\u001b[1;32m      2\u001b[0m read_image \u001b[38;5;241m=\u001b[39m \u001b[38;5;28mopen\u001b[39m(\u001b[38;5;124m\"\u001b[39m\u001b[38;5;124mimage0.png\u001b[39m\u001b[38;5;124m\"\u001b[39m, \u001b[38;5;124m\"\u001b[39m\u001b[38;5;124mrb\u001b[39m\u001b[38;5;124m\"\u001b[39m)\n\u001b[1;32m      3\u001b[0m \u001b[38;5;66;03m# image = Image.open(read_image)\u001b[39;00m\n\u001b[1;32m      4\u001b[0m \n\u001b[1;32m      5\u001b[0m \u001b[38;5;66;03m# draw = ImageDraw.Draw(image)\u001b[39;00m\n\u001b[1;32m      6\u001b[0m \u001b[38;5;66;03m# Call API with image and raw response (allows you to get the operation location)\u001b[39;00m\n\u001b[0;32m----> 7\u001b[0m read_response \u001b[38;5;241m=\u001b[39m \u001b[43mcomputervision_client\u001b[49m\u001b[38;5;241;43m.\u001b[39;49m\u001b[43mread_in_stream\u001b[49m\u001b[43m(\u001b[49m\u001b[43mread_image\u001b[49m\u001b[43m,\u001b[49m\u001b[43m \u001b[49m\u001b[43mraw\u001b[49m\u001b[38;5;241;43m=\u001b[39;49m\u001b[38;5;28;43;01mTrue\u001b[39;49;00m\u001b[43m)\u001b[49m\n\u001b[1;32m      8\u001b[0m \u001b[38;5;66;03m# Get the operation location (URL with ID as last appendage)\u001b[39;00m\n\u001b[1;32m      9\u001b[0m read_operation_location \u001b[38;5;241m=\u001b[39m read_response\u001b[38;5;241m.\u001b[39mheaders[\u001b[38;5;124m\"\u001b[39m\u001b[38;5;124mOperation-Location\u001b[39m\u001b[38;5;124m\"\u001b[39m]\n",
      "File \u001b[0;32m/opt/homebrew/Caskroom/miniforge/base/lib/python3.9/site-packages/azure/cognitiveservices/vision/computervision/operations/_computer_vision_client_operations.py:1709\u001b[0m, in \u001b[0;36mComputerVisionClientOperationsMixin.read_in_stream\u001b[0;34m(self, image, language, pages, model_version, reading_order, custom_headers, raw, callback, **operation_config)\u001b[0m\n\u001b[1;32m   1706\u001b[0m response \u001b[38;5;241m=\u001b[39m \u001b[38;5;28mself\u001b[39m\u001b[38;5;241m.\u001b[39m_client\u001b[38;5;241m.\u001b[39msend(request, stream\u001b[38;5;241m=\u001b[39m\u001b[38;5;28;01mFalse\u001b[39;00m, \u001b[38;5;241m*\u001b[39m\u001b[38;5;241m*\u001b[39moperation_config)\n\u001b[1;32m   1708\u001b[0m \u001b[38;5;28;01mif\u001b[39;00m response\u001b[38;5;241m.\u001b[39mstatus_code \u001b[38;5;129;01mnot\u001b[39;00m \u001b[38;5;129;01min\u001b[39;00m [\u001b[38;5;241m202\u001b[39m]:\n\u001b[0;32m-> 1709\u001b[0m     \u001b[38;5;28;01mraise\u001b[39;00m models\u001b[38;5;241m.\u001b[39mComputerVisionOcrErrorException(\u001b[38;5;28mself\u001b[39m\u001b[38;5;241m.\u001b[39m_deserialize, response)\n\u001b[1;32m   1711\u001b[0m \u001b[38;5;28;01mif\u001b[39;00m raw:\n\u001b[1;32m   1712\u001b[0m     client_raw_response \u001b[38;5;241m=\u001b[39m ClientRawResponse(\u001b[38;5;28;01mNone\u001b[39;00m, response)\n",
      "\u001b[0;31mComputerVisionOcrErrorException\u001b[0m: Operation returned an invalid status code 'PermissionDenied'"
     ]
    }
   ],
   "source": [
    "from PIL import Image, ImageDraw\n",
    "read_image = open(\"image0.png\", \"rb\")\n",
    "# image = Image.open(read_image)\n",
    "\n",
    "# draw = ImageDraw.Draw(image)\n",
    "# Call API with image and raw response (allows you to get the operation location)\n",
    "read_response = computervision_client.read_in_stream(read_image, raw=True)\n",
    "# Get the operation location (URL with ID as last appendage)\n",
    "read_operation_location = read_response.headers[\"Operation-Location\"]\n",
    "# Take the ID off and use to get results\n",
    "operation_id = read_operation_location.split(\"/\")[-1]\n",
    "\n",
    "# Call the \"GET\" API and wait for the retrieval of the results\n",
    "while True:\n",
    "    read_result = computervision_client.get_read_result(operation_id)\n",
    "    if read_result.status.lower () not in ['notstarted', 'running']:\n",
    "        break\n",
    "    print ('Waiting for result...')\n",
    "    time.sleep(10)\n",
    "\n",
    "image = Image.open(read_image)\n",
    "draw = ImageDraw.Draw(image)\n",
    "\n",
    "\n",
    "\n",
    "# Print results, line by line\n",
    "if read_result.status == OperationStatusCodes.succeeded:\n",
    "    for text_result in read_result.analyze_result.read_results:\n",
    "        for line in text_result.lines:\n",
    "            \n",
    "            print(line.text)\n",
    "            #print(line.bounding_box)\n",
    "            coordinates = ((line.bounding_box[0], line.bounding_box[1]),\n",
    "                           (line.bounding_box[4], line.bounding_box[5]))\n",
    "            draw.rectangle(coordinates, outline='red')\n",
    "image.show()\n",
    "print()"
   ]
  },
  {
   "cell_type": "code",
   "execution_count": null,
   "id": "ed049468",
   "metadata": {},
   "outputs": [],
   "source": []
  },
  {
   "cell_type": "code",
   "execution_count": null,
   "id": "a87bbd98",
   "metadata": {},
   "outputs": [],
   "source": []
  }
 ],
 "metadata": {
  "kernelspec": {
   "display_name": "Python 3 (ipykernel)",
   "language": "python",
   "name": "python3"
  },
  "language_info": {
   "codemirror_mode": {
    "name": "ipython",
    "version": 3
   },
   "file_extension": ".py",
   "mimetype": "text/x-python",
   "name": "python",
   "nbconvert_exporter": "python",
   "pygments_lexer": "ipython3",
   "version": "3.9.10"
  }
 },
 "nbformat": 4,
 "nbformat_minor": 5
}
