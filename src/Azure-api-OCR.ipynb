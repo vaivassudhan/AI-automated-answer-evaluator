{
 "cells": [
  {
   "cell_type": "code",
   "execution_count": 1,
   "id": "adc1d76a",
   "metadata": {},
   "outputs": [],
   "source": [
    "class StudentAnswer:\n",
    "    ans = {}\n",
    "\n",
    "answerKey = {'9':'Cloud Migration Factors : Security , Compliance, Cost, Business goals','10':'Time consuming, Modernized, migrated, time, money'} \n",
    "student1 = StudentAnswer()    "
   ]
  },
  {
   "cell_type": "code",
   "execution_count": 2,
   "id": "ed049468",
   "metadata": {},
   "outputs": [],
   "source": [
    "from sentence_transformers import SentenceTransformer\n",
    "model_name='bert-base-nli-mean-tokens'\n",
    "model=SentenceTransformer(model_name)\n"
   ]
  },
  {
   "cell_type": "code",
   "execution_count": 3,
   "id": "b13e9f0a",
   "metadata": {},
   "outputs": [
    {
     "name": "stderr",
     "output_type": "stream",
     "text": [
      "C:\\Users\\Shreinik Jain\\AppData\\Local\\Programs\\Python\\Python39\\lib\\site-packages\\fuzzywuzzy\\fuzz.py:11: UserWarning: Using slow pure-python SequenceMatcher. Install python-Levenshtein to remove this warning\n",
      "  warnings.warn('Using slow pure-python SequenceMatcher. Install python-Levenshtein to remove this warning')\n"
     ]
    }
   ],
   "source": [
    "from fuzzywuzzy import fuzz"
   ]
  },
  {
   "cell_type": "code",
   "execution_count": 4,
   "id": "e0cf0dbf",
   "metadata": {},
   "outputs": [],
   "source": [
    "from azure.cognitiveservices.vision.computervision import ComputerVisionClient\n",
    "from azure.cognitiveservices.vision.computervision.models import OperationStatusCodes\n",
    "from azure.cognitiveservices.vision.computervision.models import VisualFeatureTypes\n",
    "from msrest.authentication import CognitiveServicesCredentials\n",
    "\n",
    "from array import array\n",
    "import os\n",
    "from PIL import Image\n",
    "import sys\n",
    "import time\n",
    "# </snippet_imports>\n",
    "\n",
    "'''\n",
    "Authenticate\n",
    "Authenticates your credentials and creates a client.\n",
    "'''\n",
    "# <snippet_vars>\n",
    "subscription_key = \"d5d0e372874a4c11ba463a30abe853f1\"\n",
    "endpoint = \"https://answer-sheet.cognitiveservices.azure.com/\"\n",
    "# </snippet_vars>\n",
    "# </snippet_imports_and_vars>\n",
    "\n",
    "# <snippet_client>\n",
    "computervision_client = ComputerVisionClient(endpoint, CognitiveServicesCredentials(subscription_key))"
   ]
  },
  {
   "cell_type": "code",
   "execution_count": 5,
   "id": "1e03e6da",
   "metadata": {
    "scrolled": true
   },
   "outputs": [
    {
     "name": "stdout",
     "output_type": "stream",
     "text": [
      "Waiting for result...\n"
     ]
    }
   ],
   "source": [
    "from PIL import Image, ImageDraw\n",
    "read_image = open(\"../images/image3.png\", \"rb\")\n",
    "# image = Image.open(read_image)\n",
    "\n",
    "# draw = ImageDraw.Draw(image)\n",
    "# Call API with image and raw response (allows you to get the operation location)\n",
    "read_response = computervision_client.read_in_stream(read_image, raw=True)\n",
    "# Get the operation location (URL with ID as last appendage)\n",
    "read_operation_location = read_response.headers[\"Operation-Location\"]\n",
    "# Take the ID off and use to get results\n",
    "operation_id = read_operation_location.split(\"/\")[-1]\n",
    "\n",
    "# Call the \"GET\" API and wait for the retrieval of the results\n",
    "while True:\n",
    "    read_result = computervision_client.get_read_result(operation_id)\n",
    "    if read_result.status.lower () not in ['notstarted', 'running']:\n",
    "        break\n",
    "    print ('Waiting for result...')\n",
    "    time.sleep(1)\n"
   ]
  },
  {
   "cell_type": "code",
   "execution_count": 6,
   "id": "ce786800",
   "metadata": {},
   "outputs": [
    {
     "name": "stdout",
     "output_type": "stream",
     "text": [
      "{'9': ' Cloud Migration Factors : * Business goals * Security * Compliance * Cost and ROI * Disaster Recovery', '10': ' Workload Migration can be time consuming: Executing a cloud strategy can be time Consuming. And many applications have to be modernized to get them migrated which again Consumes time and money.'}\n"
     ]
    }
   ],
   "source": [
    "\n",
    "from PIL import ImageOps\n",
    "image = Image.open(read_image).convert('RGB')\n",
    "draw = ImageDraw.Draw(image)\n",
    "\n",
    "\n",
    "\n",
    "\n",
    "grayImage = ImageOps.grayscale(image)\n",
    "\n",
    "colorHasher={}\n",
    "counter=0\n",
    "lineSum = 0\n",
    "topbox = 0\n",
    "bottombox = 0\n",
    "# Print results, line by line\n",
    "if read_result.status == OperationStatusCodes.succeeded:\n",
    "    for text_result in read_result.analyze_result.read_results:\n",
    "        for line in text_result.lines:\n",
    "            lineSum += line.bounding_box[0]\n",
    "            if counter==0:topbox=line.bounding_box[1]\n",
    "            bottombox=line.bounding_box[5]\n",
    "            counter+=1\n",
    "\n",
    "marginLineLeft = 10\n",
    "breakLoop = False\n",
    "for top in range(10,int(topbox)):\n",
    "    if(breakLoop):\n",
    "        break\n",
    "    for left in range(10,int(lineSum)//counter+10):\n",
    "        if sum(image.getpixel((left,top)))<500:\n",
    "            marginLineLeft=left\n",
    "            breakLoop = True\n",
    "            break\n",
    "breakLoop = False\n",
    "for top in range(int(bottombox),image.height-10):\n",
    "    if(breakLoop):\n",
    "        break\n",
    "    for left in range(10,int(lineSum)//counter+10):\n",
    "        if sum(image.getpixel((left,top)))<500:\n",
    "            marginLineLeft=left\n",
    "            breakLoop = True\n",
    "            break\n",
    "# margin\n",
    "student1.ans = {}\n",
    "draw.line((marginLineLeft,0,marginLineLeft,image.height-1), fill=(255,0,0))\n",
    "qno = 0 \n",
    "for text_result in read_result.analyze_result.read_results:\n",
    "    for line in text_result.lines:\n",
    "        coordinates = ((line.bounding_box[0], line.bounding_box[1]),\n",
    "                           (line.bounding_box[4], line.bounding_box[5]))\n",
    "        draw.rectangle(coordinates, outline=(0,150,0))\n",
    "\n",
    "\n",
    "\n",
    "        if line.bounding_box[0]<marginLineLeft:\n",
    "            coordinates = ((line.bounding_box[0], line.bounding_box[1]),\n",
    "                           (line.bounding_box[4], line.bounding_box[5]))\n",
    "            draw.rectangle(coordinates, outline=(255,0,0))\n",
    "\n",
    "            qno = line.text.split()[0].replace('.','')\n",
    "            if(qno not in student1.ans):\n",
    "                student1.ans[qno] = line.text[len(qno)+1:]\n",
    "                continue\n",
    "        if(qno!=0):\n",
    "            student1.ans[qno] += \" \"\n",
    "            student1.ans[qno] += line.text\n",
    "\n",
    "image.show()\n",
    "print(student1.ans)"
   ]
  },
  {
   "cell_type": "code",
   "execution_count": 7,
   "id": "998d08ff",
   "metadata": {},
   "outputs": [],
   "source": [
    "answerFactors = {'9':{'factor':'KEYWORD','ans':'Cloud Migration Factors : Security , Compliance, Cost, Business goals'},'10':{'factor':'KEYWORD','ans':'Leadership, skill, important'}} \n",
    "answerKey = {'9':'Cloud Migration Factors : Security , Compliance, Cost, Business goals','10':'Leadership, skill, important'}"
   ]
  },
  {
   "cell_type": "code",
   "execution_count": 8,
   "metadata": {},
   "outputs": [],
   "source": [
    "answerKey_vectors = model.encode(list(answerKey.values()))\n",
    "student1_vectors = model.encode(list(student1.ans.values()))"
   ]
  },
  {
   "cell_type": "code",
   "execution_count": 9,
   "id": "205bb3bc",
   "metadata": {},
   "outputs": [
    {
     "data": {
      "text/plain": [
       "{'9': 1.0, '10': 0.16}"
      ]
     },
     "execution_count": 9,
     "metadata": {},
     "output_type": "execute_result"
    }
   ],
   "source": [
    "from sklearn.metrics.pairwise import cosine_similarity\n",
    "result={}\n",
    "for i,j in enumerate(answerKey_vectors):\n",
    "    temp = cosine_similarity([j],[student1_vectors[i]])[0][0]\n",
    "    sr=len(list(student1.ans.values())[i])\n",
    "    ar=len(list(answerKey.values())[i])\n",
    "    finr=sr/ar if sr<ar else 1\n",
    "    fuzzscore=fuzz.token_set_ratio(student1.ans[list(answerKey.keys())[i]],answerKey[list(answerKey.keys())[i]])\n",
    "    if answerFactors[list(answerKey.keys())[i]]['factor']=='KEYWORD':\n",
    "        result[list(answerKey.keys())[i]] = fuzzscore/100\n",
    "    if answerFactors[list(answerKey.keys())[i]]['factor']=='SIMILARITY':\n",
    "        result[list(answerKey.keys())[i]] = temp*finr/2+fuzzscore/200\n",
    "result\n"
   ]
  },
  {
   "cell_type": "code",
   "execution_count": 10,
   "id": "a87bbd98",
   "metadata": {},
   "outputs": [
    {
     "name": "stdout",
     "output_type": "stream",
     "text": [
      "Question 9 answered\n",
      "Marks alloted : 2.0\n",
      "Question 10 answered\n",
      "Marks alloted : 0.5\n"
     ]
    }
   ],
   "source": [
    "import math\n",
    "for k in answerKey.keys():\n",
    "    if(k not in student1.ans):\n",
    "        print(\"Question \"+k+\" not answered\")\n",
    "    else:\n",
    "        print(\"Question \"+k+\" answered\")\n",
    "        print(\"Marks alloted : \"+ str(math.ceil(result[k]*4)/2))"
   ]
  }
 ],
 "metadata": {
  "kernelspec": {
   "display_name": "Python 3 (ipykernel)",
   "language": "python",
   "name": "python3"
  },
  "language_info": {
   "codemirror_mode": {
    "name": "ipython",
    "version": 3
   },
   "file_extension": ".py",
   "mimetype": "text/x-python",
   "name": "python",
   "nbconvert_exporter": "python",
   "pygments_lexer": "ipython3",
   "version": "3.9.6"
  }
 },
 "nbformat": 4,
 "nbformat_minor": 5
}
