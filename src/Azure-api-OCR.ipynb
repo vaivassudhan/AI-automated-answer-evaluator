{
 "cells": [
  {
   "cell_type": "code",
   "execution_count": 2,
   "id": "0e415620",
   "metadata": {},
   "outputs": [],
   "source": [
    "# Draws a bounding box around an object found in image\n",
    "def drawRectangle(read_image, coordinates):\n",
    "    # Represent all sides of a box\n",
    "    image = Image.open(read_image)\n",
    "    draw = ImageDraw.Draw(image)\n",
    "    draw.rectangle(coordinates, outline='red')\n",
    "    image.show()"
   ]
  },
  {
   "cell_type": "code",
   "execution_count": 3,
   "id": "e0cf0dbf",
   "metadata": {},
   "outputs": [],
   "source": [
    "from azure.cognitiveservices.vision.computervision import ComputerVisionClient\n",
    "from azure.cognitiveservices.vision.computervision.models import OperationStatusCodes\n",
    "from azure.cognitiveservices.vision.computervision.models import VisualFeatureTypes\n",
    "from msrest.authentication import CognitiveServicesCredentials\n",
    "\n",
    "from array import array\n",
    "import os\n",
    "from PIL import Image\n",
    "import sys\n",
    "import time\n",
    "# </snippet_imports>\n",
    "\n",
    "'''\n",
    "Authenticate\n",
    "Authenticates your credentials and creates a client.\n",
    "'''\n",
    "# <snippet_vars>\n",
    "subscription_key = \"d5d0e372874a4c11ba463a30abe853f1\"\n",
    "endpoint = \"https://answer-sheet.cognitiveservices.azure.com/\"\n",
    "# </snippet_vars>\n",
    "# </snippet_imports_and_vars>\n",
    "\n",
    "# <snippet_client>\n",
    "computervision_client = ComputerVisionClient(endpoint, CognitiveServicesCredentials(subscription_key))"
   ]
  },
  {
   "cell_type": "code",
   "execution_count": 8,
   "id": "1e03e6da",
   "metadata": {
    "scrolled": true
   },
   "outputs": [
    {
     "name": "stdout",
     "output_type": "stream",
     "text": [
      "Waiting for result...\n",
      "Reg. no : 1518102126\n",
      "Course Code: U15ME1002R\n",
      "Course name : Renewable Energy Sources\n",
      "Date : 18 / 02 / 2022\n",
      "No. of. pages : 20\n",
      "Pant - A\n",
      "Energy Sources Can be classified into two types\n",
      "- Renewable , Ex: Solar, wind\n",
      "> Non Renewable , Ex: fossil fuel , nuclear material\n",
      "2 .\n",
      "Environmental impacts of energy Utilization include\n",
      "air pollution , Climate Change . water pollution , thermal\n",
      "Pollution and Solid Waste disposal . The emission\n",
      "of air pollutants from fossil fuel Combustion\n",
      "is the major cause of urban air pollution.\n",
      "Coal mining can also pollute water\n",
      "3 .\n",
      "Solan Constant is the total radiation from the\n",
      "Sun per unit of time per unit of area on a theoretical\n",
      "Surface perpendicular to the Sun'sray and at\n",
      "\n"
     ]
    }
   ],
   "source": [
    "from PIL import Image, ImageDraw\n",
    "read_image = open(\"sent.jpeg\", \"rb\")\n",
    "# image = Image.open(read_image)\n",
    "\n",
    "# draw = ImageDraw.Draw(image)\n",
    "# Call API with image and raw response (allows you to get the operation location)\n",
    "read_response = computervision_client.read_in_stream(read_image, raw=True)\n",
    "# Get the operation location (URL with ID as last appendage)\n",
    "read_operation_location = read_response.headers[\"Operation-Location\"]\n",
    "# Take the ID off and use to get results\n",
    "operation_id = read_operation_location.split(\"/\")[-1]\n",
    "\n",
    "# Call the \"GET\" API and wait for the retrieval of the results\n",
    "while True:\n",
    "    read_result = computervision_client.get_read_result(operation_id)\n",
    "    if read_result.status.lower () not in ['notstarted', 'running']:\n",
    "        break\n",
    "    print ('Waiting for result...')\n",
    "    time.sleep(10)\n",
    "\n",
    "image = Image.open(read_image)\n",
    "draw = ImageDraw.Draw(image)\n",
    "\n",
    "\n",
    "\n",
    "# Print results, line by line\n",
    "if read_result.status == OperationStatusCodes.succeeded:\n",
    "    for text_result in read_result.analyze_result.read_results:\n",
    "        for line in text_result.lines:\n",
    "            \n",
    "            print(line.text)\n",
    "            #print(line.bounding_box)\n",
    "            coordinates = ((line.bounding_box[0], line.bounding_box[1]),\n",
    "                           (line.bounding_box[4], line.bounding_box[5]))\n",
    "            draw.rectangle(coordinates, outline='red')\n",
    "image.show()\n",
    "print()"
   ]
  },
  {
   "cell_type": "code",
   "execution_count": null,
   "id": "ed049468",
   "metadata": {},
   "outputs": [],
   "source": []
  },
  {
   "cell_type": "code",
   "execution_count": null,
   "id": "a87bbd98",
   "metadata": {},
   "outputs": [],
   "source": []
  }
 ],
 "metadata": {
  "kernelspec": {
   "display_name": "Python 3 (ipykernel)",
   "language": "python",
   "name": "python3"
  },
  "language_info": {
   "codemirror_mode": {
    "name": "ipython",
    "version": 3
   },
   "file_extension": ".py",
   "mimetype": "text/x-python",
   "name": "python",
   "nbconvert_exporter": "python",
   "pygments_lexer": "ipython3",
   "version": "3.9.10"
  }
 },
 "nbformat": 4,
 "nbformat_minor": 5
}
