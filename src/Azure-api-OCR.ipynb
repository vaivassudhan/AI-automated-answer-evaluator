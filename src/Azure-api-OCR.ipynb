{
 "cells": [
  {
   "cell_type": "code",
   "execution_count": 1,
   "id": "0e415620",
   "metadata": {},
   "outputs": [],
   "source": [
    "# Draws a bounding box around an object found in image\n",
    "def drawRectangle(read_image, coordinates):\n",
    "    # Represent all sides of a box\n",
    "    image = Image.open(read_image)\n",
    "    draw = ImageDraw.Draw(image)\n",
    "    draw.rectangle(coordinates, outline='red')\n",
    "    image.show()"
   ]
  },
  {
   "cell_type": "code",
   "execution_count": 2,
   "id": "e0cf0dbf",
   "metadata": {},
   "outputs": [],
   "source": [
    "from azure.cognitiveservices.vision.computervision import ComputerVisionClient\n",
    "from azure.cognitiveservices.vision.computervision.models import OperationStatusCodes\n",
    "from azure.cognitiveservices.vision.computervision.models import VisualFeatureTypes\n",
    "from msrest.authentication import CognitiveServicesCredentials\n",
    "\n",
    "from array import array\n",
    "import os\n",
    "from PIL import Image\n",
    "import sys\n",
    "import time\n",
    "# </snippet_imports>\n",
    "\n",
    "'''\n",
    "Authenticate\n",
    "Authenticates your credentials and creates a client.\n",
    "'''\n",
    "# <snippet_vars>\n",
    "subscription_key = \"d5d0e372874a4c11ba463a30abe853f1\"\n",
    "endpoint = \"https://answer-sheet.cognitiveservices.azure.com/\"\n",
    "# </snippet_vars>\n",
    "# </snippet_imports_and_vars>\n",
    "\n",
    "# <snippet_client>\n",
    "computervision_client = ComputerVisionClient(endpoint, CognitiveServicesCredentials(subscription_key))"
   ]
  },
  {
   "cell_type": "code",
   "execution_count": 10,
   "id": "1e03e6da",
   "metadata": {
    "scrolled": true
   },
   "outputs": [
    {
     "name": "stdout",
     "output_type": "stream",
     "text": [
      "Waiting for result...\n"
     ]
    }
   ],
   "source": [
    "from PIL import Image, ImageDraw\n",
    "read_image = open(\"../images/image4.png\", \"rb\")\n",
    "# image = Image.open(read_image)\n",
    "\n",
    "# draw = ImageDraw.Draw(image)\n",
    "# Call API with image and raw response (allows you to get the operation location)\n",
    "read_response = computervision_client.read_in_stream(read_image, raw=True)\n",
    "# Get the operation location (URL with ID as last appendage)\n",
    "read_operation_location = read_response.headers[\"Operation-Location\"]\n",
    "# Take the ID off and use to get results\n",
    "operation_id = read_operation_location.split(\"/\")[-1]\n",
    "\n",
    "# Call the \"GET\" API and wait for the retrieval of the results\n",
    "while True:\n",
    "    read_result = computervision_client.get_read_result(operation_id)\n",
    "    if read_result.status.lower () not in ['notstarted', 'running']:\n",
    "        break\n",
    "    print ('Waiting for result...')\n",
    "    time.sleep(1)\n"
   ]
  },
  {
   "cell_type": "code",
   "execution_count": 13,
   "id": "ce786800",
   "metadata": {},
   "outputs": [
    {
     "name": "stdout",
     "output_type": "stream",
     "text": [
      "5\n",
      "[1506.0, 29.0, 1537.0, 24.0, 1538.0, 59.0, 1507.0, 65.0]\n",
      "PART - B\n",
      "[250.0, 250.0, 398.0, 253.0, 397.0, 306.0, 250.0, 306.0]\n",
      "11. a) i) Cloud computing deployment model:\n",
      "[168.0, 345.0, 1117.0, 394.0, 1115.0, 455.0, 168.0, 420.0]\n",
      "1. Public cloud :\n",
      "[299.0, 517.0, 648.0, 527.0, 646.0, 590.0, 297.0, 577.0]\n",
      "The public cloud makes it possible for anybody\n",
      "[423.0, 619.0, 1498.0, 652.0, 1497.0, 712.0, 422.0, 678.0]\n",
      "to\n",
      "[318.0, 733.0, 361.0, 734.0, 362.0, 784.0, 319.0, 784.0]\n",
      "access systems and services . The public cloud\n",
      "[398.0, 740.0, 1394.0, 743.0, 1393.0, 800.0, 398.0, 791.0]\n",
      "may be less secure as it is open for everyone .\n",
      "[325.0, 831.0, 1509.0, 845.0, 1508.0, 900.0, 324.0, 884.0]\n",
      "But it is cheap and efficient.\n",
      "[310.0, 952.0, 1008.0, 965.0, 1007.0, 1026.0, 310.0, 1012.0]\n",
      "A The infrastructure is provided over the internet .\n",
      "[375.0, 1075.0, 1440.0, 1124.0, 1438.0, 1187.0, 375.0, 1142.0]\n",
      "* It is not owned by the client but by the\n",
      "[384.0, 1191.0, 1422.0, 1197.0, 1421.0, 1263.0, 383.0, 1261.0]\n",
      "provider\n",
      "[443.0, 1312.0, 596.0, 1297.0, 599.0, 1349.0, 447.0, 1364.0]\n",
      "Easy access to systems and services\n",
      "[370.0, 1405.0, 1208.0, 1405.0, 1208.0, 1487.0, 370.0, 1486.0]\n",
      "* Minimal investment, No setup cost , No maintenance.\n",
      "[381.0, 1525.0, 1439.0, 1547.0, 1438.0, 1597.0, 380.0, 1583.0]\n",
      "2 . Private cloud :\n",
      "[271.0, 1654.0, 668.0, 1653.0, 668.0, 1724.0, 271.0, 1726.0]\n",
      "The private cloud A deployment is the opposite\n",
      "[410.0, 1754.0, 1524.0, 1769.0, 1523.0, 1837.0, 410.0, 1828.0]\n",
      "of public cloud deployment model . It is a one-grove\n",
      "[274.0, 1860.0, 1549.0, 1864.0, 1549.0, 1928.0, 274.0, 1927.0]\n",
      "environment for a single user ( to customer).\n",
      "[262.0, 1975.0, 1307.0, 1979.0, 1307.0, 2042.0, 262.0, 2036.0]\n",
      "398.1666666666667\n",
      "\n"
     ]
    }
   ],
   "source": [
    "\n",
    "from PIL import ImageOps\n",
    "# image = Image.open(read_image)\n",
    "draw = ImageDraw.Draw(image)\n",
    "\n",
    "image = ImageOps.grayscale(Image.open(read_image))\n",
    "\n",
    "colorHasher={}\n",
    "counter=0\n",
    "lineSum = 0 \n",
    "# Print results, line by line\n",
    "if read_result.status == OperationStatusCodes.succeeded:\n",
    "    for text_result in read_result.analyze_result.read_results:\n",
    "        for line in text_result.lines:\n",
    "            r=(counter%3==0)*5*(counter//3+5)+150\n",
    "            g=(counter%3==1)*5*(counter//3+5)+150\n",
    "            b=(counter%3==2)*5*(counter//3+5)+150\n",
    "            print(line.text)\n",
    "            lineSum += line.bounding_box[0]\n",
    "            print(line.bounding_box)\n",
    "            coordinates = ((line.bounding_box[0], line.bounding_box[1]),\n",
    "                           (line.bounding_box[4], line.bounding_box[5]))\n",
    "            draw.rectangle(coordinates, outline=(r,g,b))\n",
    "            counter+=1\n",
    "lineAvg = lineSum / counter\n",
    "print(lineAvg)\n",
    "image.show()\n",
    "print()"
   ]
  },
  {
   "cell_type": "code",
   "execution_count": null,
   "id": "ed049468",
   "metadata": {},
   "outputs": [],
   "source": []
  },
  {
   "cell_type": "code",
   "execution_count": null,
   "id": "a87bbd98",
   "metadata": {},
   "outputs": [],
   "source": []
  }
 ],
 "metadata": {
  "kernelspec": {
   "display_name": "Python 3 (ipykernel)",
   "language": "python",
   "name": "python3"
  },
  "language_info": {
   "codemirror_mode": {
    "name": "ipython",
    "version": 3
   },
   "file_extension": ".py",
   "mimetype": "text/x-python",
   "name": "python",
   "nbconvert_exporter": "python",
   "pygments_lexer": "ipython3",
   "version": "3.9.6"
  }
 },
 "nbformat": 4,
 "nbformat_minor": 5
}
