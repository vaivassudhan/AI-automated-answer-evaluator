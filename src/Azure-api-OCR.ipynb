{
 "cells": [
  {
   "cell_type": "code",
   "execution_count": 4,
   "id": "adc1d76a",
   "metadata": {},
   "outputs": [],
   "source": [
    "class StudentAnswer:\n",
    "    ans = {}\n",
    "\n",
    "answerKey = {'9':'Cloud Migration Factors : Security , Compliance, Cost, Business goals','10':'Time consuming, Modernized, migrated, time, money'} \n",
    "student1 = StudentAnswer()    "
   ]
  },
  {
   "cell_type": "code",
   "execution_count": 1,
   "id": "e0cf0dbf",
   "metadata": {},
   "outputs": [],
   "source": [
    "from azure.cognitiveservices.vision.computervision import ComputerVisionClient\n",
    "from azure.cognitiveservices.vision.computervision.models import OperationStatusCodes\n",
    "from azure.cognitiveservices.vision.computervision.models import VisualFeatureTypes\n",
    "from msrest.authentication import CognitiveServicesCredentials\n",
    "\n",
    "from array import array\n",
    "import os\n",
    "from PIL import Image\n",
    "import sys\n",
    "import time\n",
    "# </snippet_imports>\n",
    "\n",
    "'''\n",
    "Authenticate\n",
    "Authenticates your credentials and creates a client.\n",
    "'''\n",
    "# <snippet_vars>\n",
    "subscription_key = \"d5d0e372874a4c11ba463a30abe853f1\"\n",
    "endpoint = \"https://answer-sheet.cognitiveservices.azure.com/\"\n",
    "# </snippet_vars>\n",
    "# </snippet_imports_and_vars>\n",
    "\n",
    "# <snippet_client>\n",
    "computervision_client = ComputerVisionClient(endpoint, CognitiveServicesCredentials(subscription_key))"
   ]
  },
  {
   "cell_type": "code",
   "execution_count": 14,
   "id": "1e03e6da",
   "metadata": {
    "scrolled": true
   },
   "outputs": [
    {
     "name": "stdout",
     "output_type": "stream",
     "text": [
      "Waiting for result...\n"
     ]
    }
   ],
   "source": [
    "from PIL import Image, ImageDraw\n",
    "read_image = open(\"../images/image3.png\", \"rb\")\n",
    "# image = Image.open(read_image)\n",
    "\n",
    "# draw = ImageDraw.Draw(image)\n",
    "# Call API with image and raw response (allows you to get the operation location)\n",
    "read_response = computervision_client.read_in_stream(read_image, raw=True)\n",
    "# Get the operation location (URL with ID as last appendage)\n",
    "read_operation_location = read_response.headers[\"Operation-Location\"]\n",
    "# Take the ID off and use to get results\n",
    "operation_id = read_operation_location.split(\"/\")[-1]\n",
    "\n",
    "# Call the \"GET\" API and wait for the retrieval of the results\n",
    "while True:\n",
    "    read_result = computervision_client.get_read_result(operation_id)\n",
    "    if read_result.status.lower () not in ['notstarted', 'running']:\n",
    "        break\n",
    "    print ('Waiting for result...')\n",
    "    time.sleep(1)\n"
   ]
  },
  {
   "cell_type": "code",
   "execution_count": 19,
   "id": "ce786800",
   "metadata": {},
   "outputs": [
    {
     "name": "stdout",
     "output_type": "stream",
     "text": [
      "4\n",
      "9. Cloud Migration Factors :\n",
      "* Business goals\n",
      "Security\n",
      "*\n",
      "Compliance\n",
      "*\n",
      "Cost and ROI\n",
      "*\n",
      "Disaster Recovery\n",
      "10.\n",
      "Workload Migration Can be time consuming:\n",
      "Executing a cloud strategy Can be time\n",
      "Consuming. And many applications have to\n",
      "be modernized to get them migrated which again\n",
      "Consumes time and money.\n",
      "{'9': ' Cloud Migration Factors : * Business goals Security * Compliance * Cost and ROI * Disaster Recovery', '10': ' Workload Migration Can be time consuming: Executing a cloud strategy Can be time Consuming. And many applications have to be modernized to get them migrated which again Consumes time and money.'}\n"
     ]
    }
   ],
   "source": [
    "\n",
    "from PIL import ImageOps\n",
    "image = Image.open(read_image).convert('RGB')\n",
    "draw = ImageDraw.Draw(image)\n",
    "\n",
    "\n",
    "\n",
    "\n",
    "grayImage = ImageOps.grayscale(image)\n",
    "\n",
    "colorHasher={}\n",
    "counter=0\n",
    "lineSum = 0\n",
    "topbox = 0\n",
    "bottombox = 0\n",
    "# Print results, line by line\n",
    "if read_result.status == OperationStatusCodes.succeeded:\n",
    "    for text_result in read_result.analyze_result.read_results:\n",
    "        for line in text_result.lines:\n",
    "            lineSum += line.bounding_box[0]\n",
    "            if counter==0:topbox=line.bounding_box[1]\n",
    "            bottombox=line.bounding_box[5]\n",
    "            counter+=1\n",
    "\n",
    "marginLineLeft = 10\n",
    "breakLoop = False\n",
    "for top in range(10,int(topbox)):\n",
    "    if(breakLoop):\n",
    "        break\n",
    "    for left in range(10,int(lineSum)//counter+10):\n",
    "        if sum(image.getpixel((left,top)))<500:\n",
    "            marginLineLeft=left\n",
    "            breakLoop = True\n",
    "            break\n",
    "breakLoop = False\n",
    "for top in range(int(bottombox),image.height-10):\n",
    "    if(breakLoop):\n",
    "        break\n",
    "    for left in range(10,int(lineSum)//counter+10):\n",
    "        if sum(image.getpixel((left,top)))<500:\n",
    "            marginLineLeft=left\n",
    "            breakLoop = True\n",
    "            break\n",
    "# margin\n",
    "student1.ans = {}\n",
    "draw.line((marginLineLeft,0,marginLineLeft,image.height-1), fill=(255,0,0))\n",
    "qno = 0 \n",
    "for text_result in read_result.analyze_result.read_results:\n",
    "    for line in text_result.lines:\n",
    "        print(line.text)\n",
    "        coordinates = ((line.bounding_box[0], line.bounding_box[1]),\n",
    "                           (line.bounding_box[4], line.bounding_box[5]))\n",
    "        draw.rectangle(coordinates, outline=(0,150,0))\n",
    "\n",
    "\n",
    "\n",
    "        if line.bounding_box[0]<marginLineLeft:\n",
    "            coordinates = ((line.bounding_box[0], line.bounding_box[1]),\n",
    "                           (line.bounding_box[4], line.bounding_box[5]))\n",
    "            draw.rectangle(coordinates, outline=(255,0,0))\n",
    "\n",
    "            qno = line.text.split()[0].replace('.','')\n",
    "            if(qno not in student1.ans):\n",
    "                student1.ans[qno] = line.text[len(qno)+1:]\n",
    "                continue\n",
    "        if(qno!=0):\n",
    "            student1.ans[qno] += \" \"\n",
    "            student1.ans[qno] += line.text\n",
    "\n",
    "image.show()\n",
    "print(student1.ans)"
   ]
  },
  {
   "cell_type": "code",
   "execution_count": null,
   "id": "ed049468",
   "metadata": {},
   "outputs": [],
   "source": []
  },
  {
   "cell_type": "code",
   "execution_count": null,
   "id": "a87bbd98",
   "metadata": {},
   "outputs": [],
   "source": []
  }
 ],
 "metadata": {
  "kernelspec": {
   "display_name": "Python 3 (ipykernel)",
   "language": "python",
   "name": "python3"
  },
  "language_info": {
   "codemirror_mode": {
    "name": "ipython",
    "version": 3
   },
   "file_extension": ".py",
   "mimetype": "text/x-python",
   "name": "python",
   "nbconvert_exporter": "python",
   "pygments_lexer": "ipython3",
   "version": "3.9.10"
  }
 },
 "nbformat": 4,
 "nbformat_minor": 5
}
