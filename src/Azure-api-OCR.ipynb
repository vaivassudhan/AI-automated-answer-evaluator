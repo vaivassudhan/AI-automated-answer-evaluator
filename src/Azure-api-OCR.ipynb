{
 "cells": [
  {
   "cell_type": "code",
   "execution_count": 1,
   "id": "0e415620",
   "metadata": {},
   "outputs": [],
   "source": [
    "# Draws a bounding box around an object found in image\n",
    "def drawRectangle(read_image, coordinates):\n",
    "    # Represent all sides of a box\n",
    "    image = Image.open(read_image)\n",
    "    draw = ImageDraw.Draw(image)\n",
    "    draw.rectangle(coordinates, outline='red')\n",
    "    image.show()"
   ]
  },
  {
   "cell_type": "code",
   "execution_count": 2,
   "id": "e0cf0dbf",
   "metadata": {},
   "outputs": [],
   "source": [
    "from azure.cognitiveservices.vision.computervision import ComputerVisionClient\n",
    "from azure.cognitiveservices.vision.computervision.models import OperationStatusCodes\n",
    "from azure.cognitiveservices.vision.computervision.models import VisualFeatureTypes\n",
    "from msrest.authentication import CognitiveServicesCredentials\n",
    "\n",
    "from array import array\n",
    "import os\n",
    "from PIL import Image\n",
    "import sys\n",
    "import time\n",
    "# </snippet_imports>\n",
    "\n",
    "'''\n",
    "Authenticate\n",
    "Authenticates your credentials and creates a client.\n",
    "'''\n",
    "# <snippet_vars>\n",
    "subscription_key = \"d5d0e372874a4c11ba463a30abe853f1\"\n",
    "endpoint = \"https://answer-sheet.cognitiveservices.azure.com/\"\n",
    "# </snippet_vars>\n",
    "# </snippet_imports_and_vars>\n",
    "\n",
    "# <snippet_client>\n",
    "computervision_client = ComputerVisionClient(endpoint, CognitiveServicesCredentials(subscription_key))"
   ]
  },
  {
   "cell_type": "code",
   "execution_count": 3,
   "id": "1e03e6da",
   "metadata": {
    "scrolled": true
   },
   "outputs": [
    {
     "name": "stdout",
     "output_type": "stream",
     "text": [
      "Waiting for result...\n",
      "Waiting for result...\n"
     ]
    }
   ],
   "source": [
    "from PIL import Image, ImageDraw\n",
    "read_image = open(\"../images/sent.jpeg\", \"rb\")\n",
    "# image = Image.open(read_image)\n",
    "\n",
    "# draw = ImageDraw.Draw(image)\n",
    "# Call API with image and raw response (allows you to get the operation location)\n",
    "read_response = computervision_client.read_in_stream(read_image, raw=True)\n",
    "# Get the operation location (URL with ID as last appendage)\n",
    "read_operation_location = read_response.headers[\"Operation-Location\"]\n",
    "# Take the ID off and use to get results\n",
    "operation_id = read_operation_location.split(\"/\")[-1]\n",
    "\n",
    "# Call the \"GET\" API and wait for the retrieval of the results\n",
    "while True:\n",
    "    read_result = computervision_client.get_read_result(operation_id)\n",
    "    if read_result.status.lower () not in ['notstarted', 'running']:\n",
    "        break\n",
    "    print ('Waiting for result...')\n",
    "    time.sleep(1)\n"
   ]
  },
  {
   "cell_type": "code",
   "execution_count": 4,
   "id": "ce786800",
   "metadata": {},
   "outputs": [
    {
     "name": "stdout",
     "output_type": "stream",
     "text": [
      "Reg. no : 1518102126\n",
      "175 150 150\n",
      "Course Code: U15ME1002R\n",
      "150 175 150\n",
      "Course name : Renewable Energy Sources\n",
      "150 150 175\n",
      "Date : 18 / 02 / 2022\n",
      "180 150 150\n",
      "No. of. pages : 20\n",
      "150 180 150\n",
      "Pant - A\n",
      "150 150 180\n",
      "Energy Sources Can be classified into two types\n",
      "185 150 150\n",
      "- Renewable , Ex: Solar, wind\n",
      "150 185 150\n",
      "> Non Renewable , Ex: fossil fuel , nuclear material\n",
      "150 150 185\n",
      "2 .\n",
      "190 150 150\n",
      "Environmental impacts of energy Utilization include\n",
      "150 190 150\n",
      "air pollution , Climate Change . water pollution , thermal\n",
      "150 150 190\n",
      "Pollution and Solid Waste disposal . The emission\n",
      "195 150 150\n",
      "of air pollutants from fossil fuel Combustion\n",
      "150 195 150\n",
      "is the major cause of urban air pollution.\n",
      "150 150 195\n",
      "Coal mining can also pollute water\n",
      "200 150 150\n",
      "3 .\n",
      "150 200 150\n",
      "Solan Constant is the total radiation from the\n",
      "150 150 200\n",
      "Sun per unit of time per unit of area on a theoretical\n",
      "205 150 150\n",
      "Surface perpendicular to the Sun'sray and at\n",
      "150 205 150\n",
      "\n"
     ]
    }
   ],
   "source": [
    "\n",
    "image = Image.open(read_image)\n",
    "draw = ImageDraw.Draw(image)\n",
    "\n",
    "\n",
    "colorHasher={}\n",
    "counter=0\n",
    "# Print results, line by line\n",
    "if read_result.status == OperationStatusCodes.succeeded:\n",
    "    for text_result in read_result.analyze_result.read_results:\n",
    "        for line in text_result.lines:\n",
    "            r=(counter%3==0)*5*(counter//3+5)+150\n",
    "            g=(counter%3==1)*5*(counter//3+5)+150\n",
    "            b=(counter%3==2)*5*(counter//3+5)+150\n",
    "            print(line.text)\n",
    "            #print(r,g,b)\n",
    "            print(line.bounding_box)\n",
    "            coordinates = ((line.bounding_box[0], line.bounding_box[1]),\n",
    "                           (line.bounding_box[4], line.bounding_box[5]))\n",
    "            draw.rectangle(coordinates, outline=(r,g,b))\n",
    "            counter+=1\n",
    "image.show()\n",
    "print()"
   ]
  },
  {
   "cell_type": "code",
   "execution_count": null,
   "id": "ed049468",
   "metadata": {},
   "outputs": [],
   "source": []
  },
  {
   "cell_type": "code",
   "execution_count": null,
   "id": "a87bbd98",
   "metadata": {},
   "outputs": [],
   "source": []
  }
 ],
 "metadata": {
  "kernelspec": {
   "display_name": "Python 3 (ipykernel)",
   "language": "python",
   "name": "python3"
  },
  "language_info": {
   "codemirror_mode": {
    "name": "ipython",
    "version": 3
   },
   "file_extension": ".py",
   "mimetype": "text/x-python",
   "name": "python",
   "nbconvert_exporter": "python",
   "pygments_lexer": "ipython3",
   "version": "3.9.6"
  }
 },
 "nbformat": 4,
 "nbformat_minor": 5
}
