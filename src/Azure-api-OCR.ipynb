{
 "cells": [
  {
   "cell_type": "code",
   "execution_count": 4,
   "id": "adc1d76a",
   "metadata": {},
   "outputs": [],
   "source": [
    "class StudentAnswer:\n",
    "    ans = {}\n",
    "    \n",
    "    \n",
    "student1 = StudentAnswer()    "
   ]
  },
  {
   "cell_type": "code",
   "execution_count": 1,
   "id": "e0cf0dbf",
   "metadata": {},
   "outputs": [],
   "source": [
    "from azure.cognitiveservices.vision.computervision import ComputerVisionClient\n",
    "from azure.cognitiveservices.vision.computervision.models import OperationStatusCodes\n",
    "from azure.cognitiveservices.vision.computervision.models import VisualFeatureTypes\n",
    "from msrest.authentication import CognitiveServicesCredentials\n",
    "\n",
    "from array import array\n",
    "import os\n",
    "from PIL import Image\n",
    "import sys\n",
    "import time\n",
    "# </snippet_imports>\n",
    "\n",
    "'''\n",
    "Authenticate\n",
    "Authenticates your credentials and creates a client.\n",
    "'''\n",
    "# <snippet_vars>\n",
    "subscription_key = \"d5d0e372874a4c11ba463a30abe853f1\"\n",
    "endpoint = \"https://answer-sheet.cognitiveservices.azure.com/\"\n",
    "# </snippet_vars>\n",
    "# </snippet_imports_and_vars>\n",
    "\n",
    "# <snippet_client>\n",
    "computervision_client = ComputerVisionClient(endpoint, CognitiveServicesCredentials(subscription_key))"
   ]
  },
  {
   "cell_type": "code",
   "execution_count": 8,
   "id": "1e03e6da",
   "metadata": {
    "scrolled": true
   },
   "outputs": [
    {
     "name": "stdout",
     "output_type": "stream",
     "text": [
      "Waiting for result...\n"
     ]
    }
   ],
   "source": [
    "from PIL import Image, ImageDraw\n",
    "read_image = open(\"../images/image0.png\", \"rb\")\n",
    "# image = Image.open(read_image)\n",
    "\n",
    "# draw = ImageDraw.Draw(image)\n",
    "# Call API with image and raw response (allows you to get the operation location)\n",
    "read_response = computervision_client.read_in_stream(read_image, raw=True)\n",
    "# Get the operation location (URL with ID as last appendage)\n",
    "read_operation_location = read_response.headers[\"Operation-Location\"]\n",
    "# Take the ID off and use to get results\n",
    "operation_id = read_operation_location.split(\"/\")[-1]\n",
    "\n",
    "# Call the \"GET\" API and wait for the retrieval of the results\n",
    "while True:\n",
    "    read_result = computervision_client.get_read_result(operation_id)\n",
    "    if read_result.status.lower () not in ['notstarted', 'running']:\n",
    "        break\n",
    "    print ('Waiting for result...')\n",
    "    time.sleep(1)\n"
   ]
  },
  {
   "cell_type": "code",
   "execution_count": 10,
   "id": "ce786800",
   "metadata": {},
   "outputs": [
    {
     "name": "stdout",
     "output_type": "stream",
     "text": [
      "Register No. 1518/02131\n",
      "Course code : UISCS 927 R\n",
      "Course name : Cloud Computing\n",
      "Date : 11/02 / 2022\n",
      "No. of pages : 15\n",
      "PART - A\n",
      "Cloud computing :\n",
      "In cloud computing , the client does not have to\n",
      "buy The resources and manage thing . Instead , the provider.\n",
      "provides the resources as a Service which is much cheaper .\n",
      "Essentiel characteristics.\n",
      "# On demand self services\n",
      "* Resource pooling\n",
      "* Measured service\n",
      "2. Infrastructure as a Service ( IaaS) : resources\n",
      "of Virtual machines\n",
      "* In memory ( RAM ) storage\n",
      "Disk storage\n",
      "of Network devices\n",
      "{'2': ' Infrastructure as a Service ( IaaS) : resources of Virtual machines * In memory ( RAM ) storage Disk storage of Network devices'}\n"
     ]
    }
   ],
   "source": [
    "\n",
    "from PIL import ImageOps\n",
    "image = Image.open(read_image).convert('RGB')\n",
    "draw = ImageDraw.Draw(image)\n",
    "\n",
    "\n",
    "\n",
    "\n",
    "grayImage = ImageOps.grayscale(image)\n",
    "\n",
    "colorHasher={}\n",
    "counter=0\n",
    "lineSum = 0\n",
    "topbox = 0\n",
    "bottombox = 0\n",
    "# Print results, line by line\n",
    "if read_result.status == OperationStatusCodes.succeeded:\n",
    "    for text_result in read_result.analyze_result.read_results:\n",
    "        for line in text_result.lines:\n",
    "            lineSum += line.bounding_box[0]\n",
    "            if counter==0:topbox=line.bounding_box[1]\n",
    "            bottombox=line.bounding_box[5]\n",
    "            counter+=1\n",
    "\n",
    "marginLineLeft = 10\n",
    "breakLoop = False\n",
    "for top in range(10,int(topbox)):\n",
    "    if(breakLoop):\n",
    "        break\n",
    "    for left in range(10,int(lineSum)//counter+10):\n",
    "        if sum(image.getpixel((left,top)))<500:\n",
    "            marginLineLeft=left\n",
    "            breakLoop = True\n",
    "            break\n",
    "breakLoop = False\n",
    "for top in range(int(bottombox),image.height-10):\n",
    "    if(breakLoop):\n",
    "        break\n",
    "    for left in range(10,int(lineSum)//counter+10):\n",
    "        if sum(image.getpixel((left,top)))<500:\n",
    "            marginLineLeft=left\n",
    "            breakLoop = True\n",
    "            break\n",
    "# margin\n",
    "student1.ans = {}\n",
    "draw.line((marginLineLeft,0,marginLineLeft,image.height-1), fill=(255,0,0))\n",
    "qno = 0 \n",
    "for text_result in read_result.analyze_result.read_results:\n",
    "    for line in text_result.lines:\n",
    "        print(line.text)\n",
    "        coordinates = ((line.bounding_box[0], line.bounding_box[1]),\n",
    "                           (line.bounding_box[4], line.bounding_box[5]))\n",
    "        draw.rectangle(coordinates, outline=(0,150,0))\n",
    "        if(qno!=0):\n",
    "            student1.ans[qno] += \" \"\n",
    "            student1.ans[qno] += line.text\n",
    "\n",
    "\n",
    "        if line.bounding_box[0]<marginLineLeft:\n",
    "            coordinates = ((line.bounding_box[0], line.bounding_box[1]),\n",
    "                           (line.bounding_box[4], line.bounding_box[5]))\n",
    "            draw.rectangle(coordinates, outline=(255,0,0))\n",
    "\n",
    "            qno = line.text.split()[0].replace('.','')\n",
    "            if(qno not in student1.ans):\n",
    "                student1.ans[qno] = line.text[len(qno)+1:]\n",
    "\n",
    "image.show()\n",
    "print(student1.ans)"
   ]
  },
  {
   "cell_type": "code",
   "execution_count": null,
   "id": "ed049468",
   "metadata": {},
   "outputs": [],
   "source": []
  },
  {
   "cell_type": "code",
   "execution_count": null,
   "id": "a87bbd98",
   "metadata": {},
   "outputs": [],
   "source": []
  }
 ],
 "metadata": {
  "kernelspec": {
   "display_name": "Python 3 (ipykernel)",
   "language": "python",
   "name": "python3"
  },
  "language_info": {
   "codemirror_mode": {
    "name": "ipython",
    "version": 3
   },
   "file_extension": ".py",
   "mimetype": "text/x-python",
   "name": "python",
   "nbconvert_exporter": "python",
   "pygments_lexer": "ipython3",
   "version": "3.9.10"
  }
 },
 "nbformat": 4,
 "nbformat_minor": 5
}
