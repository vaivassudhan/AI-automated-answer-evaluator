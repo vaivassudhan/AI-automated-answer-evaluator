{
 "cells": [
  {
   "cell_type": "code",
   "execution_count": 3,
   "id": "8580883a",
   "metadata": {},
   "outputs": [
    {
     "data": {
      "text/plain": [
       "True"
      ]
     },
     "execution_count": 3,
     "metadata": {},
     "output_type": "execute_result"
    }
   ],
   "source": [
    "import cv2\n",
    "import numpy as np\n",
    "\n",
    "# Read image\n",
    "image = cv2.imread('../images/image4.png')\n",
    "\n",
    "# Convert image to grayscale\n",
    "gray = cv2.cvtColor(image,cv2.COLOR_BGR2GRAY)\n",
    "\n",
    "# Use canny edge detection\n",
    "edges = cv2.Canny(gray,50,150,apertureSize=3)\n",
    "\n",
    "# Apply HoughLinesP method to\n",
    "# to directly obtain line end points\n",
    "lines = cv2.HoughLinesP(\n",
    "\t\t\tedges, # Input edge image\n",
    "\t\t\t1, # Distance resolution in pixels\n",
    "\t\t\tnp.pi/180, # Angle resolution in radians\n",
    "\t\t\tthreshold=100, # Min number of votes for valid line\n",
    "\t\t\tminLineLength=5, # Min allowed length of line\n",
    "\t\t\tmaxLineGap=10 # Max allowed gap between line for joining them\n",
    "\t\t\t)\n",
    "lines_list=[]\n",
    "# Iterate over points\n",
    "for points in lines:\n",
    "\t# Extracted points nested in the list\n",
    "\tx1,y1,x2,y2=points[0]\n",
    "\t# Draw the lines joing the points\n",
    "\t# On the original image\n",
    "\tcv2.line(image,(x1,y1),(x2,y2),(0,255,0),2)\n",
    "\t# Maintain a simples lookup list for points\n",
    "\tlines_list.append([(x1,y1),(x2,y2)])\n",
    "\t\n",
    "# Save the result image\n",
    "cv2.imwrite('detectedLines.png',image)\n",
    "\n"
   ]
  },
  {
   "cell_type": "code",
   "execution_count": null,
   "id": "b1c3614e",
   "metadata": {},
   "outputs": [],
   "source": [
    "top = 0 \n",
    "left = 0 \n",
    "for "
   ]
  }
 ],
 "metadata": {
  "kernelspec": {
   "display_name": "Python 3 (ipykernel)",
   "language": "python",
   "name": "python3"
  },
  "language_info": {
   "codemirror_mode": {
    "name": "ipython",
    "version": 3
   },
   "file_extension": ".py",
   "mimetype": "text/x-python",
   "name": "python",
   "nbconvert_exporter": "python",
   "pygments_lexer": "ipython3",
   "version": "3.9.10"
  }
 },
 "nbformat": 4,
 "nbformat_minor": 5
}
